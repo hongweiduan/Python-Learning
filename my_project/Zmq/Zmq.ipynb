{
 "cells": [
  {
   "cell_type": "markdown",
   "metadata": {},
   "source": [
    "# Request-Reply mode"
   ]
  },
  {
   "cell_type": "code",
   "execution_count": null,
   "metadata": {
    "collapsed": true
   },
   "outputs": [],
   "source": [
    "# !/usr/bin/python\n",
    "# -*- coding:utf-8 -*-\n",
    "import time\n",
    "import zmq\n",
    "\n",
    "context = zmq.Context()\n",
    "socket = context.socket(zmq.REP)\n",
    "socket.bind(\"tcp://*:5555\")\n",
    "while 1:\n",
    "    message = socket.recv()\n",
    "    print message\n",
    "    time.sleep(1)\n",
    "    socket.send(\"server response!\")\n",
    "    "
   ]
  },
  {
   "cell_type": "code",
   "execution_count": null,
   "metadata": {
    "collapsed": true
   },
   "outputs": [],
   "source": [
    "# !/usr/bin/python\n",
    "# -*- coding:utf-8 -*-\n",
    "import zmq\n",
    "import sys\n",
    "\n",
    "context = zmq.Context()\n",
    "socket = context.socket(zmq.REQ)\n",
    "socket.connect(\"tcp://localhost:5555\")\n",
    "\n",
    "while 1:\n",
    "    data = raw_input(\"input you data:\")\n",
    "    if data == 'q':\n",
    "        sys.exit()\n",
    "    socket.send(data)\n",
    "    response = socket.recv();\n",
    "    \n",
    "    print response"
   ]
  },
  {
   "cell_type": "markdown",
   "metadata": {},
   "source": [
    "# Publish & Subscribe"
   ]
  },
  {
   "cell_type": "code",
   "execution_count": null,
   "metadata": {
    "collapsed": true
   },
   "outputs": [],
   "source": [
    "# !/usr/bin/python\n",
    "# -*- coding:utf-8 -*-\n",
    "\n",
    "import zmq\n",
    "\n",
    "context = zmq.Context()\n",
    "socket = context.socket(zmq.PUB)\n",
    "socket.bind(\"tcp://127.0.0.1:5000\")\n",
    "\n",
    "while 1:\n",
    "    msg = raw_input('input your data:')\n",
    "    socket.send(msg)\n"
   ]
  },
  {
   "cell_type": "code",
   "execution_count": null,
   "metadata": {
    "collapsed": true
   },
   "outputs": [],
   "source": [
    "# !/usr/bin/python\n",
    "# -*- coding:utf-8 -*-\n",
    "\n",
    "import time\n",
    "import zmq\n",
    "\n",
    "context = zmq.Context()\n",
    "socket = context.socket(zmq.SUB)\n",
    "socket.connect(\"tcp://127.0.0.1:5000\")\n",
    "socket.setsockopt(zmq.SUBSCRIBE,'')\n",
    "\n",
    "while 1:\n",
    "    print socket.recv()\n"
   ]
  },
  {
   "cell_type": "markdown",
   "metadata": {},
   "source": [
    "# Parallel & Pipeline"
   ]
  },
  {
   "cell_type": "markdown",
   "metadata": {},
   "source": [
    "Server.py"
   ]
  },
  {
   "cell_type": "code",
   "execution_count": null,
   "metadata": {
    "collapsed": true
   },
   "outputs": [],
   "source": [
    "# !/usr/bin/python\n",
    "# -*- coding:utf-8 -*-\n",
    "\n",
    "import zmq\n",
    "\n",
    "context = zmq.Context()\n",
    "\n",
    "socket = context.socket(zmq.PULL)\n",
    "socket.bind('tcp://127.0.0.1:5558')\n",
    "\n",
    "while 1:\n",
    "    data = socket.recv()\n",
    "    print data\n"
   ]
  },
  {
   "cell_type": "markdown",
   "metadata": {},
   "source": [
    "Client.py"
   ]
  },
  {
   "cell_type": "code",
   "execution_count": null,
   "metadata": {
    "collapsed": true
   },
   "outputs": [],
   "source": [
    "# !/usr/bin/python\n",
    "# -*-coding:utf-8 -*-\n",
    "\n",
    "import zmq\n",
    "\n",
    "import time\n",
    "\n",
    "context = zmq.Context()\n",
    "\n",
    "socket = context.socket(zmq.PUSH)\n",
    "\n",
    "socket.bind('tcp://*:5557')\n",
    "\n",
    "while 1:\n",
    "    data =  raw_input('input your data:')\n",
    "    socket.send(data)\n",
    "    "
   ]
  },
  {
   "cell_type": "markdown",
   "metadata": {},
   "source": [
    "work.py"
   ]
  },
  {
   "cell_type": "code",
   "execution_count": null,
   "metadata": {
    "collapsed": true
   },
   "outputs": [],
   "source": [
    "# !/usr/bin/python\n",
    "# -*- coding:utf-8 -*-\n",
    "\n",
    "import zmq\n",
    "\n",
    "context = zmq.Context()\n",
    "recive = context.socket(zmq.PULL)\n",
    "recive.connect('tcp://127.0.0.1:5557')\n",
    "sender = context.socket(zmq.PUSH)\n",
    "sender.connect('tcp://127.0.0.1:5558')\n",
    "\n",
    "while 1:\n",
    "    data = recive.recv()\n",
    "    print data\n",
    "    sender.send(data)\n"
   ]
  }
 ],
 "metadata": {
  "kernelspec": {
   "display_name": "Python 2",
   "language": "python",
   "name": "python2"
  },
  "language_info": {
   "codemirror_mode": {
    "name": "ipython",
    "version": 2
   },
   "file_extension": ".py",
   "mimetype": "text/x-python",
   "name": "python",
   "nbconvert_exporter": "python",
   "pygments_lexer": "ipython2",
   "version": "2.7.13"
  }
 },
 "nbformat": 4,
 "nbformat_minor": 2
}
